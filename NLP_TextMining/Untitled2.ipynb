{
 "cells": [
  {
   "cell_type": "code",
   "execution_count": 2,
   "id": "4f6f69ac",
   "metadata": {},
   "outputs": [],
   "source": [
    "def scrape_review_titles(url):\n",
    "    response = requests.get(url)\n",
    "    soup = BeautifulSoup(response.content, 'html.parser')\n",
    "    \n",
    "    review_titles = []\n",
    "    titles = soup.select('.review-title-content .a-text-bold')\n",
    "    for title in titles:\n",
    "        review_titles.append(title.get_text())\n",
    "    \n",
    "    return review_titles"
   ]
  },
  {
   "cell_type": "code",
   "execution_count": null,
   "id": "7b8eceda",
   "metadata": {},
   "outputs": [],
   "source": [
    "base_url = \"https://www.amazon.in/product-reviews/B09XSJ8XF4\"\n",
    "\n",
    "all_review_titles = []\n",
    "\n",
    "for page_number in range(1, 11):  # Scraping 10 pages\n",
    "    url = f\"{base_url}?pageNumber={page_number}\"\n",
    "    page_review_titles = scrape_review_titles(url)\n",
    "    all_review_titles.extend(page_review_titles)"
   ]
  },
  {
   "cell_type": "code",
   "execution_count": null,
   "id": "3eb1cbea",
   "metadata": {},
   "outputs": [],
   "source": [
    "with open(\"amazon_review_titles.txt\", \"w\", encoding=\"utf-8\") as file:\n",
    "    for title in all_review_titles:\n",
    "        file.write(title + \"\\n\")"
   ]
  },
  {
   "cell_type": "code",
   "execution_count": null,
   "id": "3881bc33",
   "metadata": {},
   "outputs": [],
   "source": []
  }
 ],
 "metadata": {
  "kernelspec": {
   "display_name": "Python 3 (ipykernel)",
   "language": "python",
   "name": "python3"
  },
  "language_info": {
   "codemirror_mode": {
    "name": "ipython",
    "version": 3
   },
   "file_extension": ".py",
   "mimetype": "text/x-python",
   "name": "python",
   "nbconvert_exporter": "python",
   "pygments_lexer": "ipython3",
   "version": "3.10.9"
  }
 },
 "nbformat": 4,
 "nbformat_minor": 5
}
