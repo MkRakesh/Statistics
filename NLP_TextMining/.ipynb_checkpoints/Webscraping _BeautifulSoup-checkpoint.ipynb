{
 "cells": [
  {
   "cell_type": "markdown",
   "id": "6e5265a5",
   "metadata": {},
   "source": [
    "## Webscraping | BeautifulSoup"
   ]
  },
  {
   "cell_type": "code",
   "execution_count": 2,
   "id": "8f9de2d4",
   "metadata": {},
   "outputs": [],
   "source": [
    "import requests\n",
    "from bs4 import BeautifulSoup"
   ]
  },
  {
   "cell_type": "code",
   "execution_count": 5,
   "id": "4aa217a2",
   "metadata": {},
   "outputs": [],
   "source": [
    "url='https://www.flipkart.com/search?q=mobile+under+15000+rs&as=on&as-show=on&otracker=AS_Query_OrganicAutoSuggest_3_12_na_na_na&otracker1=AS_Query_OrganicAutoSuggest_3_12_na_na_na&as-pos=3&as-type=RECENT&suggestionId=mobile+under+15000+rs&requestId=6753f0db-2d2b-43e3-883a-d072adef0233&as-searchtext=mobile%20under'"
   ]
  },
  {
   "cell_type": "code",
   "execution_count": 6,
   "id": "11af9687",
   "metadata": {},
   "outputs": [
    {
     "name": "stdout",
     "output_type": "stream",
     "text": [
      "<Response [200]>\n"
     ]
    }
   ],
   "source": [
    "r=requests.get(url)\n",
    "print(r)"
   ]
  },
  {
   "cell_type": "code",
   "execution_count": 8,
   "id": "69f506cf",
   "metadata": {},
   "outputs": [],
   "source": [
    "soup=BeautifulSoup(r.text,'lxml')"
   ]
  },
  {
   "cell_type": "code",
   "execution_count": 12,
   "id": "c4294d15",
   "metadata": {},
   "outputs": [
    {
     "name": "stdout",
     "output_type": "stream",
     "text": [
      "/search?q=mobile+under+15000+rs&as=on&as-show=on&otracker=AS_Query_OrganicAutoSuggest_3_12_na_na_na&otracker1=AS_Query_OrganicAutoSuggest_3_12_na_na_na&as-pos=3&as-type=RECENT&suggestionId=mobile+under+15000+rs&requestId=6753f0db-2d2b-43e3-883a-d072adef0233&as-searchtext=mobile+under&page=2\n"
     ]
    }
   ],
   "source": [
    "next_page=soup.find(\"a\",class_='_1LKTO3').get('href')\n",
    "print(next_page)"
   ]
  },
  {
   "cell_type": "code",
   "execution_count": 13,
   "id": "c8b54f31",
   "metadata": {},
   "outputs": [],
   "source": [
    "np='https://www.flipkart.com'+next_page"
   ]
  },
  {
   "cell_type": "code",
   "execution_count": 15,
   "id": "5319beea",
   "metadata": {},
   "outputs": [
    {
     "name": "stdout",
     "output_type": "stream",
     "text": [
      "https://www.flipkart.com/search?q=mobile+under+15000+rs&as=on&as-show=on&otracker=AS_Query_OrganicAutoSuggest_3_12_na_na_na&otracker1=AS_Query_OrganicAutoSuggest_3_12_na_na_na&as-pos=3&as-type=RECENT&suggestionId=mobile+under+15000+rs&requestId=6753f0db-2d2b-43e3-883a-d072adef0233&as-searchtext=mobile+under&page=2\n"
     ]
    }
   ],
   "source": [
    "print(np)"
   ]
  },
  {
   "cell_type": "code",
   "execution_count": 38,
   "id": "bf382824",
   "metadata": {},
   "outputs": [],
   "source": [
    "product_name=[]\n",
    "price=[]\n",
    "description=[]\n",
    "rating=[]\n",
    "d=[]\n",
    "for i in range(2,5):\n",
    "    url='https://www.flipkart.com/search?q=mobile+under+15000+rs&as=on&as-show=on&otracker=AS_Query_OrganicAutoSuggest_3_12_na_na_na&otracker1=AS_Query_OrganicAutoSuggest_3_12_na_na_na&as-pos=3&as-type=RECENT&suggestionId=mobile+under+15000+rs&requestId=6753f0db-2d2b-43e3-883a-d072adef0233&as-searchtext=mobile+under&page='+str(i)\n",
    "    r=requests.get(url)\n",
    "    soup=BeautifulSoup(r.text,'lxml')\n",
    "    box=soup.find('div',class_=\"_1YokD2 _3Mn1Gg\")\n",
    "\n",
    "    \n",
    "    product_names=box.find_all('div',class_='_4rR01T')\n",
    "    for i in product_names:\n",
    "        product_name.append(i.text)\n",
    "        \n",
    "    price_list=box.find_all('div',class_=\"_30jeq3 _1_WHN1\")\n",
    "    for j in price_list:\n",
    "        price.append(j.text)\n",
    "        \n",
    "    descriptions=box.find_all('ul',class_=\"_1xgFaf\")\n",
    "    for k in descriptions:\n",
    "        description.append(k.text)\n",
    "        \n",
    "    ratings=box.find_all('div',class_='_3LWZlK')\n",
    "    for l in ratings:\n",
    "        rating.append(l.text)\n",
    "\n",
    "        \n",
    "    \n",
    "        \n",
    "        \n",
    "#     next_page=soup.find_all(\"a\",class_='_1LKTO3').get('href')    \n",
    "#     np='https://www.flipkart.com'+next_page\n",
    "# #     print(np)\n"
   ]
  },
  {
   "cell_type": "code",
   "execution_count": 39,
   "id": "b6bb8846",
   "metadata": {},
   "outputs": [
    {
     "data": {
      "text/plain": [
       "(72, 72, 72, 72)"
      ]
     },
     "execution_count": 39,
     "metadata": {},
     "output_type": "execute_result"
    }
   ],
   "source": [
    "len(product_name) ,len(price),len(description),len(rating)"
   ]
  },
  {
   "cell_type": "code",
   "execution_count": 41,
   "id": "c9255daa",
   "metadata": {},
   "outputs": [],
   "source": [
    "import pandas as pd\n",
    "flipkart_scraped=pd.DataFrame({'Product_name':product_name,'Price':price,'Description': description,'Review':rating})"
   ]
  },
  {
   "cell_type": "code",
   "execution_count": 44,
   "id": "30584837",
   "metadata": {},
   "outputs": [
    {
     "data": {
      "text/html": [
       "<div>\n",
       "<style scoped>\n",
       "    .dataframe tbody tr th:only-of-type {\n",
       "        vertical-align: middle;\n",
       "    }\n",
       "\n",
       "    .dataframe tbody tr th {\n",
       "        vertical-align: top;\n",
       "    }\n",
       "\n",
       "    .dataframe thead th {\n",
       "        text-align: right;\n",
       "    }\n",
       "</style>\n",
       "<table border=\"1\" class=\"dataframe\">\n",
       "  <thead>\n",
       "    <tr style=\"text-align: right;\">\n",
       "      <th></th>\n",
       "      <th>Product_name</th>\n",
       "      <th>Price</th>\n",
       "      <th>Description</th>\n",
       "      <th>Review</th>\n",
       "    </tr>\n",
       "  </thead>\n",
       "  <tbody>\n",
       "    <tr>\n",
       "      <th>0</th>\n",
       "      <td>realme C55 (Rainforest, 64 GB)</td>\n",
       "      <td>₹10,999</td>\n",
       "      <td>4 GB RAM | 64 GB ROM | Expandable Upto 1 TB17....</td>\n",
       "      <td>4.4</td>\n",
       "    </tr>\n",
       "    <tr>\n",
       "      <th>1</th>\n",
       "      <td>realme C55 (Rainforest, 128 GB)</td>\n",
       "      <td>₹13,999</td>\n",
       "      <td>8 GB RAM | 128 GB ROM | Expandable Upto 1 TB17...</td>\n",
       "      <td>4.4</td>\n",
       "    </tr>\n",
       "    <tr>\n",
       "      <th>2</th>\n",
       "      <td>SAMSUNG Galaxy F14 5G (OMG Black, 128 GB)</td>\n",
       "      <td>₹14,990</td>\n",
       "      <td>6 GB RAM | 128 GB ROM | Expandable Upto 1 TB16...</td>\n",
       "      <td>4.2</td>\n",
       "    </tr>\n",
       "    <tr>\n",
       "      <th>3</th>\n",
       "      <td>MOTOROLA g72 (Meteorite Grey, 128 GB)</td>\n",
       "      <td>₹14,999</td>\n",
       "      <td>6 GB RAM | 128 GB ROM | Expandable Upto 1 TB16...</td>\n",
       "      <td>4.1</td>\n",
       "    </tr>\n",
       "    <tr>\n",
       "      <th>4</th>\n",
       "      <td>POCO X5 5G (Jaguar Black, 128 GB)</td>\n",
       "      <td>₹14,999</td>\n",
       "      <td>6 GB RAM | 128 GB ROM | Expandable Upto 1 TB16...</td>\n",
       "      <td>4.2</td>\n",
       "    </tr>\n",
       "    <tr>\n",
       "      <th>...</th>\n",
       "      <td>...</td>\n",
       "      <td>...</td>\n",
       "      <td>...</td>\n",
       "      <td>...</td>\n",
       "    </tr>\n",
       "    <tr>\n",
       "      <th>67</th>\n",
       "      <td>POCO M4 5G (Cool Blue, 128 GB)</td>\n",
       "      <td>₹14,999</td>\n",
       "      <td>6 GB RAM | 128 GB ROM | Expandable Upto 512 GB...</td>\n",
       "      <td>4.2</td>\n",
       "    </tr>\n",
       "    <tr>\n",
       "      <th>68</th>\n",
       "      <td>vivo Y16 (Steller Black, 64 GB)</td>\n",
       "      <td>₹10,999</td>\n",
       "      <td>4 GB RAM | 64 GB ROM | Expandable Upto 1 TB16....</td>\n",
       "      <td>4.3</td>\n",
       "    </tr>\n",
       "    <tr>\n",
       "      <th>69</th>\n",
       "      <td>realme Narzo N53 (Feather Black, 64 GB)</td>\n",
       "      <td>₹10,499</td>\n",
       "      <td>4 GB RAM | 64 GB ROM17.12 cm (6.74 inch) Displ...</td>\n",
       "      <td>4.3</td>\n",
       "    </tr>\n",
       "    <tr>\n",
       "      <th>70</th>\n",
       "      <td>REDMI 12C (Lavender Purple, 128 GB)</td>\n",
       "      <td>₹9,446</td>\n",
       "      <td>4 GB RAM | 128 GB ROM | Expandable Upto 1 TB17...</td>\n",
       "      <td>4.2</td>\n",
       "    </tr>\n",
       "    <tr>\n",
       "      <th>71</th>\n",
       "      <td>POCO M4 5G (Yellow, 64 GB)</td>\n",
       "      <td>₹12,999</td>\n",
       "      <td>4 GB RAM | 64 GB ROM | Expandable Upto 512 GB1...</td>\n",
       "      <td>4.2</td>\n",
       "    </tr>\n",
       "  </tbody>\n",
       "</table>\n",
       "<p>72 rows × 4 columns</p>\n",
       "</div>"
      ],
      "text/plain": [
       "                                 Product_name    Price  \\\n",
       "0              realme C55 (Rainforest, 64 GB)  ₹10,999   \n",
       "1             realme C55 (Rainforest, 128 GB)  ₹13,999   \n",
       "2   SAMSUNG Galaxy F14 5G (OMG Black, 128 GB)  ₹14,990   \n",
       "3       MOTOROLA g72 (Meteorite Grey, 128 GB)  ₹14,999   \n",
       "4           POCO X5 5G (Jaguar Black, 128 GB)  ₹14,999   \n",
       "..                                        ...      ...   \n",
       "67             POCO M4 5G (Cool Blue, 128 GB)  ₹14,999   \n",
       "68            vivo Y16 (Steller Black, 64 GB)  ₹10,999   \n",
       "69    realme Narzo N53 (Feather Black, 64 GB)  ₹10,499   \n",
       "70        REDMI 12C (Lavender Purple, 128 GB)   ₹9,446   \n",
       "71                 POCO M4 5G (Yellow, 64 GB)  ₹12,999   \n",
       "\n",
       "                                          Description Review  \n",
       "0   4 GB RAM | 64 GB ROM | Expandable Upto 1 TB17....    4.4  \n",
       "1   8 GB RAM | 128 GB ROM | Expandable Upto 1 TB17...    4.4  \n",
       "2   6 GB RAM | 128 GB ROM | Expandable Upto 1 TB16...    4.2  \n",
       "3   6 GB RAM | 128 GB ROM | Expandable Upto 1 TB16...    4.1  \n",
       "4   6 GB RAM | 128 GB ROM | Expandable Upto 1 TB16...    4.2  \n",
       "..                                                ...    ...  \n",
       "67  6 GB RAM | 128 GB ROM | Expandable Upto 512 GB...    4.2  \n",
       "68  4 GB RAM | 64 GB ROM | Expandable Upto 1 TB16....    4.3  \n",
       "69  4 GB RAM | 64 GB ROM17.12 cm (6.74 inch) Displ...    4.3  \n",
       "70  4 GB RAM | 128 GB ROM | Expandable Upto 1 TB17...    4.2  \n",
       "71  4 GB RAM | 64 GB ROM | Expandable Upto 512 GB1...    4.2  \n",
       "\n",
       "[72 rows x 4 columns]"
      ]
     },
     "execution_count": 44,
     "metadata": {},
     "output_type": "execute_result"
    }
   ],
   "source": [
    "pd.set_option('display.max_columns', None)\n",
    "flipkart_scraped"
   ]
  },
  {
   "cell_type": "code",
   "execution_count": 53,
   "id": "76f4099e",
   "metadata": {},
   "outputs": [],
   "source": [
    "flipkart_scraped.to_csv(r\"C:\\Users\\rakes\\ExcelR_\\flipkart_scraped\")"
   ]
  },
  {
   "cell_type": "code",
   "execution_count": null,
   "id": "0d56941e",
   "metadata": {},
   "outputs": [],
   "source": []
  }
 ],
 "metadata": {
  "kernelspec": {
   "display_name": "Python 3 (ipykernel)",
   "language": "python",
   "name": "python3"
  },
  "language_info": {
   "codemirror_mode": {
    "name": "ipython",
    "version": 3
   },
   "file_extension": ".py",
   "mimetype": "text/x-python",
   "name": "python",
   "nbconvert_exporter": "python",
   "pygments_lexer": "ipython3",
   "version": "3.10.9"
  }
 },
 "nbformat": 4,
 "nbformat_minor": 5
}
