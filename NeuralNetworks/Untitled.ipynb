{
 "cells": [
  {
   "cell_type": "code",
   "execution_count": 1,
   "id": "98fc4365",
   "metadata": {},
   "outputs": [],
   "source": [
    "import tensorflow as tf"
   ]
  },
  {
   "cell_type": "code",
   "execution_count": 2,
   "id": "83a9fa79",
   "metadata": {},
   "outputs": [
    {
     "data": {
      "text/plain": [
       "(15039, 11)"
      ]
     },
     "execution_count": 2,
     "metadata": {},
     "output_type": "execute_result"
    }
   ],
   "source": [
    "import pandas as pd\n",
    "import numpy as np\n",
    "data=pd.read_csv('gas_turbines.csv')\n",
    "data.shape"
   ]
  },
  {
   "cell_type": "code",
   "execution_count": null,
   "id": "40294927",
   "metadata": {},
   "outputs": [],
   "source": []
  },
  {
   "cell_type": "code",
   "execution_count": 10,
   "id": "a76bd9cf",
   "metadata": {},
   "outputs": [],
   "source": []
  },
  {
   "cell_type": "code",
   "execution_count": 42,
   "id": "d0136c01",
   "metadata": {},
   "outputs": [
    {
     "data": {
      "text/html": [
       "<div>\n",
       "<style scoped>\n",
       "    .dataframe tbody tr th:only-of-type {\n",
       "        vertical-align: middle;\n",
       "    }\n",
       "\n",
       "    .dataframe tbody tr th {\n",
       "        vertical-align: top;\n",
       "    }\n",
       "\n",
       "    .dataframe thead th {\n",
       "        text-align: right;\n",
       "    }\n",
       "</style>\n",
       "<table border=\"1\" class=\"dataframe\">\n",
       "  <thead>\n",
       "    <tr style=\"text-align: right;\">\n",
       "      <th></th>\n",
       "      <th>AT</th>\n",
       "      <th>AP</th>\n",
       "      <th>AH</th>\n",
       "      <th>AFDP</th>\n",
       "      <th>GTEP</th>\n",
       "      <th>TIT</th>\n",
       "      <th>TAT</th>\n",
       "      <th>TEY</th>\n",
       "      <th>CDP</th>\n",
       "      <th>CO</th>\n",
       "      <th>NOX</th>\n",
       "    </tr>\n",
       "  </thead>\n",
       "  <tbody>\n",
       "    <tr>\n",
       "      <th>0</th>\n",
       "      <td>0.184182</td>\n",
       "      <td>0.456050</td>\n",
       "      <td>0.951314</td>\n",
       "      <td>0.255758</td>\n",
       "      <td>0.091426</td>\n",
       "      <td>0.584</td>\n",
       "      <td>0.984015</td>\n",
       "      <td>114.70</td>\n",
       "      <td>0.135340</td>\n",
       "      <td>0.071522</td>\n",
       "      <td>0.596548</td>\n",
       "    </tr>\n",
       "    <tr>\n",
       "      <th>1</th>\n",
       "      <td>0.182020</td>\n",
       "      <td>0.466391</td>\n",
       "      <td>0.955881</td>\n",
       "      <td>0.255721</td>\n",
       "      <td>0.094755</td>\n",
       "      <td>0.585</td>\n",
       "      <td>0.984015</td>\n",
       "      <td>114.72</td>\n",
       "      <td>0.133988</td>\n",
       "      <td>0.073372</td>\n",
       "      <td>0.597134</td>\n",
       "    </tr>\n",
       "    <tr>\n",
       "      <th>2</th>\n",
       "      <td>0.185295</td>\n",
       "      <td>0.474664</td>\n",
       "      <td>0.939003</td>\n",
       "      <td>0.252571</td>\n",
       "      <td>0.097367</td>\n",
       "      <td>0.586</td>\n",
       "      <td>0.980608</td>\n",
       "      <td>114.71</td>\n",
       "      <td>0.134567</td>\n",
       "      <td>0.072576</td>\n",
       "      <td>0.593791</td>\n",
       "    </tr>\n",
       "    <tr>\n",
       "      <th>3</th>\n",
       "      <td>0.189922</td>\n",
       "      <td>0.482937</td>\n",
       "      <td>0.929126</td>\n",
       "      <td>0.252227</td>\n",
       "      <td>0.098033</td>\n",
       "      <td>0.588</td>\n",
       "      <td>0.983753</td>\n",
       "      <td>114.72</td>\n",
       "      <td>0.135533</td>\n",
       "      <td>0.072375</td>\n",
       "      <td>0.595984</td>\n",
       "    </tr>\n",
       "    <tr>\n",
       "      <th>4</th>\n",
       "      <td>0.199830</td>\n",
       "      <td>0.493278</td>\n",
       "      <td>0.927708</td>\n",
       "      <td>0.255323</td>\n",
       "      <td>0.096650</td>\n",
       "      <td>0.589</td>\n",
       "      <td>0.983491</td>\n",
       "      <td>114.72</td>\n",
       "      <td>0.136692</td>\n",
       "      <td>0.073647</td>\n",
       "      <td>0.592087</td>\n",
       "    </tr>\n",
       "  </tbody>\n",
       "</table>\n",
       "</div>"
      ],
      "text/plain": [
       "         AT        AP        AH      AFDP      GTEP    TIT       TAT     TEY  \\\n",
       "0  0.184182  0.456050  0.951314  0.255758  0.091426  0.584  0.984015  114.70   \n",
       "1  0.182020  0.466391  0.955881  0.255721  0.094755  0.585  0.984015  114.72   \n",
       "2  0.185295  0.474664  0.939003  0.252571  0.097367  0.586  0.980608  114.71   \n",
       "3  0.189922  0.482937  0.929126  0.252227  0.098033  0.588  0.983753  114.72   \n",
       "4  0.199830  0.493278  0.927708  0.255323  0.096650  0.589  0.983491  114.72   \n",
       "\n",
       "        CDP        CO       NOX  \n",
       "0  0.135340  0.071522  0.596548  \n",
       "1  0.133988  0.073372  0.597134  \n",
       "2  0.134567  0.072576  0.593791  \n",
       "3  0.135533  0.072375  0.595984  \n",
       "4  0.136692  0.073647  0.592087  "
      ]
     },
     "execution_count": 42,
     "metadata": {},
     "output_type": "execute_result"
    }
   ],
   "source": [
    "from sklearn.preprocessing import MinMaxScaler\n",
    "scaler=MinMaxScaler()\n",
    "for column in ['AT', 'AP', 'AH', 'AFDP','GTEP', 'TIT', 'TAT', 'CDP', 'CO', 'NOX']:\n",
    "    data[column]=scaler.fit_transform(data[[column]])\n",
    "    \n",
    "data.head()"
   ]
  },
  {
   "cell_type": "code",
   "execution_count": 63,
   "id": "ab13f317",
   "metadata": {},
   "outputs": [
    {
     "data": {
      "text/plain": [
       "9126     140.01\n",
       "11883    148.93\n",
       "14619    121.22\n",
       "2203     133.35\n",
       "6205     128.17\n",
       "Name: TEY, dtype: float64"
      ]
     },
     "execution_count": 63,
     "metadata": {},
     "output_type": "execute_result"
    }
   ],
   "source": [
    "X=data.drop('TEY',axis=1)\n",
    "y=data['TEY']\n",
    "\n",
    "X_train.head()\n",
    "y_train.head()"
   ]
  },
  {
   "cell_type": "code",
   "execution_count": 54,
   "id": "9fb3d216",
   "metadata": {},
   "outputs": [],
   "source": [
    "from sklearn.model_selection import train_test_split\n",
    "X_train,X_test,y_train,y_test=train_test_split(X,y,test_size=.2,random_state=100)"
   ]
  },
  {
   "cell_type": "code",
   "execution_count": 64,
   "id": "23c1cf65",
   "metadata": {},
   "outputs": [
    {
     "data": {
      "text/plain": [
       "(12031, 10)"
      ]
     },
     "execution_count": 64,
     "metadata": {},
     "output_type": "execute_result"
    }
   ],
   "source": [
    "X_train.shape"
   ]
  },
  {
   "cell_type": "code",
   "execution_count": 75,
   "id": "915d91db",
   "metadata": {},
   "outputs": [],
   "source": [
    "model=tf.keras.Sequential([\n",
    "       tf.keras.layers.Dense(64,input_dim=10,activation='linear'),\n",
    "       tf.keras.layers.Dense(64,activation='linear'),\n",
    "       tf.keras.layers.Dense(1)\n",
    "])\n",
    "\n",
    "model.compile(loss='mean_absolute_error',\n",
    "              optimizer=tf.keras.optimizers.Adadelta(learning_rate=.001),metrics=['mean_absolute_error'])\n"
   ]
  },
  {
   "cell_type": "code",
   "execution_count": 76,
   "id": "00187ac1",
   "metadata": {},
   "outputs": [
    {
     "name": "stdout",
     "output_type": "stream",
     "text": [
      "Epoch 1/30\n",
      "963/963 [==============================] - 4s 3ms/step - loss: 132.8064 - mean_absolute_error: 132.8064 - val_loss: 132.9751 - val_mean_absolute_error: 132.9751\n",
      "Epoch 2/30\n",
      "963/963 [==============================] - 3s 3ms/step - loss: 132.2065 - mean_absolute_error: 132.2065 - val_loss: 132.2459 - val_mean_absolute_error: 132.2459\n",
      "Epoch 3/30\n",
      "963/963 [==============================] - 3s 3ms/step - loss: 131.3190 - mean_absolute_error: 131.3190 - val_loss: 131.1696 - val_mean_absolute_error: 131.1696\n",
      "Epoch 4/30\n",
      "963/963 [==============================] - 3s 3ms/step - loss: 129.9493 - mean_absolute_error: 129.9493 - val_loss: 129.4206 - val_mean_absolute_error: 129.4206\n",
      "Epoch 5/30\n",
      "963/963 [==============================] - 3s 3ms/step - loss: 127.5189 - mean_absolute_error: 127.5189 - val_loss: 126.0487 - val_mean_absolute_error: 126.0487\n",
      "Epoch 6/30\n",
      "963/963 [==============================] - 3s 3ms/step - loss: 122.1995 - mean_absolute_error: 122.1995 - val_loss: 117.8152 - val_mean_absolute_error: 117.8152\n",
      "Epoch 7/30\n",
      "963/963 [==============================] - 2s 3ms/step - loss: 106.3948 - mean_absolute_error: 106.3948 - val_loss: 88.9199 - val_mean_absolute_error: 88.9199\n",
      "Epoch 8/30\n",
      "963/963 [==============================] - 3s 3ms/step - loss: 40.6732 - mean_absolute_error: 40.6732 - val_loss: 8.8775 - val_mean_absolute_error: 8.8775\n",
      "Epoch 9/30\n",
      "963/963 [==============================] - 3s 3ms/step - loss: 8.4124 - mean_absolute_error: 8.4124 - val_loss: 8.5301 - val_mean_absolute_error: 8.5301\n",
      "Epoch 10/30\n",
      "963/963 [==============================] - 3s 3ms/step - loss: 8.2414 - mean_absolute_error: 8.2414 - val_loss: 8.4517 - val_mean_absolute_error: 8.4517\n",
      "Epoch 11/30\n",
      "963/963 [==============================] - 3s 3ms/step - loss: 8.1909 - mean_absolute_error: 8.1909 - val_loss: 8.4160 - val_mean_absolute_error: 8.4160\n",
      "Epoch 12/30\n",
      "963/963 [==============================] - 3s 3ms/step - loss: 8.1581 - mean_absolute_error: 8.1581 - val_loss: 8.3829 - val_mean_absolute_error: 8.3829\n",
      "Epoch 13/30\n",
      "963/963 [==============================] - 3s 3ms/step - loss: 8.1270 - mean_absolute_error: 8.1270 - val_loss: 8.3519 - val_mean_absolute_error: 8.3519\n",
      "Epoch 14/30\n",
      "963/963 [==============================] - 3s 3ms/step - loss: 8.0956 - mean_absolute_error: 8.0956 - val_loss: 8.3196 - val_mean_absolute_error: 8.3196\n",
      "Epoch 15/30\n",
      "963/963 [==============================] - 3s 3ms/step - loss: 8.0642 - mean_absolute_error: 8.0642 - val_loss: 8.2878 - val_mean_absolute_error: 8.2878\n",
      "Epoch 16/30\n",
      "963/963 [==============================] - 2s 3ms/step - loss: 8.0326 - mean_absolute_error: 8.0326 - val_loss: 8.2556 - val_mean_absolute_error: 8.2556\n",
      "Epoch 17/30\n",
      "963/963 [==============================] - 3s 3ms/step - loss: 8.0013 - mean_absolute_error: 8.0013 - val_loss: 8.2238 - val_mean_absolute_error: 8.2238\n",
      "Epoch 18/30\n",
      "963/963 [==============================] - 2s 3ms/step - loss: 7.9697 - mean_absolute_error: 7.9697 - val_loss: 8.1915 - val_mean_absolute_error: 8.1915\n",
      "Epoch 19/30\n",
      "963/963 [==============================] - 3s 3ms/step - loss: 7.9385 - mean_absolute_error: 7.9385 - val_loss: 8.1597 - val_mean_absolute_error: 8.1597\n",
      "Epoch 20/30\n",
      "963/963 [==============================] - 3s 3ms/step - loss: 7.9071 - mean_absolute_error: 7.9071 - val_loss: 8.1284 - val_mean_absolute_error: 8.1284\n",
      "Epoch 21/30\n",
      "963/963 [==============================] - 3s 3ms/step - loss: 7.8762 - mean_absolute_error: 7.8762 - val_loss: 8.0971 - val_mean_absolute_error: 8.0971\n",
      "Epoch 22/30\n",
      "963/963 [==============================] - 3s 3ms/step - loss: 7.8447 - mean_absolute_error: 7.8447 - val_loss: 8.0653 - val_mean_absolute_error: 8.0653\n",
      "Epoch 23/30\n",
      "963/963 [==============================] - 3s 3ms/step - loss: 7.8140 - mean_absolute_error: 7.8140 - val_loss: 8.0345 - val_mean_absolute_error: 8.0345\n",
      "Epoch 24/30\n",
      "963/963 [==============================] - 3s 3ms/step - loss: 7.7833 - mean_absolute_error: 7.7833 - val_loss: 8.0038 - val_mean_absolute_error: 8.0038\n",
      "Epoch 25/30\n",
      "963/963 [==============================] - 3s 3ms/step - loss: 7.7525 - mean_absolute_error: 7.7525 - val_loss: 7.9729 - val_mean_absolute_error: 7.9729\n",
      "Epoch 26/30\n",
      "963/963 [==============================] - 3s 3ms/step - loss: 7.7220 - mean_absolute_error: 7.7220 - val_loss: 7.9417 - val_mean_absolute_error: 7.9417\n",
      "Epoch 27/30\n",
      "963/963 [==============================] - 3s 3ms/step - loss: 7.6919 - mean_absolute_error: 7.6919 - val_loss: 7.9121 - val_mean_absolute_error: 7.9121\n",
      "Epoch 28/30\n",
      "963/963 [==============================] - 2s 3ms/step - loss: 7.6615 - mean_absolute_error: 7.6615 - val_loss: 7.8820 - val_mean_absolute_error: 7.8820\n",
      "Epoch 29/30\n",
      "963/963 [==============================] - 2s 2ms/step - loss: 7.6315 - mean_absolute_error: 7.6315 - val_loss: 7.8523 - val_mean_absolute_error: 7.8523\n",
      "Epoch 30/30\n",
      "963/963 [==============================] - 3s 3ms/step - loss: 7.6017 - mean_absolute_error: 7.6017 - val_loss: 7.8219 - val_mean_absolute_error: 7.8219\n"
     ]
    }
   ],
   "source": [
    "histoey=model.fit(X_train,y_train,epochs=30,batch_size=10,validation_split=.2)"
   ]
  },
  {
   "cell_type": "code",
   "execution_count": 77,
   "id": "4bc8094d",
   "metadata": {},
   "outputs": [
    {
     "data": {
      "text/plain": [
       "<Axes: >"
      ]
     },
     "execution_count": 77,
     "metadata": {},
     "output_type": "execute_result"
    },
    {
     "data": {
      "image/png": "[encoded data removed]",
      "text/plain": [
       "<Figure size 640x480 with 1 Axes>"
      ]
     },
     "metadata": {},
     "output_type": "display_data"
    }
   ],
   "source": [
    "pd.DataFrame(histoey.history).plot()"
   ]
  },
  {
   "cell_type": "code",
   "execution_count": null,
   "id": "584ca9f3",
   "metadata": {},
   "outputs": [],
   "source": []
  }
 ],
 "metadata": {
  "kernelspec": {
   "display_name": "Python 3 (ipykernel)",
   "language": "python",
   "name": "python3"
  },
  "language_info": {
   "codemirror_mode": {
    "name": "ipython",
    "version": 3
   },
   "file_extension": ".py",
   "mimetype": "text/x-python",
   "name": "python",
   "nbconvert_exporter": "python",
   "pygments_lexer": "ipython3",
   "version": "3.10.9"
  }
 },
 "nbformat": 4,
 "nbformat_minor": 5
}
