{
 "cells": [
  {
   "cell_type": "markdown",
   "id": "4922518b",
   "metadata": {},
   "source": [
    "## Regression | NN | TensorFlow"
   ]
  },
  {
   "cell_type": "code",
   "execution_count": 2,
   "id": "b786b7b6",
   "metadata": {},
   "outputs": [],
   "source": [
    "import numpy as np\n",
    "import pandas as pd\n",
    "import tensorflow as tf"
   ]
  },
  {
   "cell_type": "code",
   "execution_count": 3,
   "id": "542783d2",
   "metadata": {},
   "outputs": [
    {
     "data": {
      "text/html": [
       "<div>\n",
       "<style scoped>\n",
       "    .dataframe tbody tr th:only-of-type {\n",
       "        vertical-align: middle;\n",
       "    }\n",
       "\n",
       "    .dataframe tbody tr th {\n",
       "        vertical-align: top;\n",
       "    }\n",
       "\n",
       "    .dataframe thead th {\n",
       "        text-align: right;\n",
       "    }\n",
       "</style>\n",
       "<table border=\"1\" class=\"dataframe\">\n",
       "  <thead>\n",
       "    <tr style=\"text-align: right;\">\n",
       "      <th></th>\n",
       "      <th>Delivery Time</th>\n",
       "      <th>Sorting Time</th>\n",
       "    </tr>\n",
       "  </thead>\n",
       "  <tbody>\n",
       "    <tr>\n",
       "      <th>0</th>\n",
       "      <td>21.00</td>\n",
       "      <td>10</td>\n",
       "    </tr>\n",
       "    <tr>\n",
       "      <th>1</th>\n",
       "      <td>13.50</td>\n",
       "      <td>4</td>\n",
       "    </tr>\n",
       "    <tr>\n",
       "      <th>2</th>\n",
       "      <td>19.75</td>\n",
       "      <td>6</td>\n",
       "    </tr>\n",
       "    <tr>\n",
       "      <th>3</th>\n",
       "      <td>24.00</td>\n",
       "      <td>9</td>\n",
       "    </tr>\n",
       "    <tr>\n",
       "      <th>4</th>\n",
       "      <td>29.00</td>\n",
       "      <td>10</td>\n",
       "    </tr>\n",
       "  </tbody>\n",
       "</table>\n",
       "</div>"
      ],
      "text/plain": [
       "   Delivery Time  Sorting Time\n",
       "0          21.00            10\n",
       "1          13.50             4\n",
       "2          19.75             6\n",
       "3          24.00             9\n",
       "4          29.00            10"
      ]
     },
     "execution_count": 3,
     "metadata": {},
     "output_type": "execute_result"
    }
   ],
   "source": [
    "#import data\n",
    "df=pd.read_csv('delivery_time.csv')\n",
    "df.head()"
   ]
  },
  {
   "cell_type": "code",
   "execution_count": 4,
   "id": "60d4f148",
   "metadata": {},
   "outputs": [
    {
     "data": {
      "text/plain": [
       "(21, 2)"
      ]
     },
     "execution_count": 4,
     "metadata": {},
     "output_type": "execute_result"
    }
   ],
   "source": [
    "df.shape"
   ]
  },
  {
   "cell_type": "code",
   "execution_count": 5,
   "id": "ee3259fa",
   "metadata": {},
   "outputs": [],
   "source": [
    "X=df['Delivery Time']\n",
    "y=df['Sorting Time']"
   ]
  },
  {
   "cell_type": "code",
   "execution_count": 25,
   "id": "9e58fcb6",
   "metadata": {},
   "outputs": [
    {
     "name": "stderr",
     "output_type": "stream",
     "text": [
      "WARNING:absl:`lr` is deprecated in Keras optimizer, please use `learning_rate` or use the legacy optimizer, e.g.,tf.keras.optimizers.legacy.Adam.\n"
     ]
    },
    {
     "name": "stdout",
     "output_type": "stream",
     "text": [
      "Epoch 1/100\n",
      "1/1 [==============================] - 1s 576ms/step - loss: 4.9222 - mae: 4.9222\n",
      "Epoch 2/100\n",
      "1/1 [==============================] - 0s 8ms/step - loss: 4.8467 - mae: 4.8467\n",
      "Epoch 3/100\n",
      "1/1 [==============================] - 0s 7ms/step - loss: 4.7714 - mae: 4.7714\n",
      "Epoch 4/100\n",
      "1/1 [==============================] - 0s 8ms/step - loss: 4.6962 - mae: 4.6962\n",
      "Epoch 5/100\n",
      "1/1 [==============================] - 0s 8ms/step - loss: 4.6213 - mae: 4.6213\n",
      "Epoch 6/100\n",
      "1/1 [==============================] - 0s 9ms/step - loss: 4.5466 - mae: 4.5466\n",
      "Epoch 7/100\n",
      "1/1 [==============================] - 0s 7ms/step - loss: 4.4721 - mae: 4.4721\n",
      "Epoch 8/100\n",
      "1/1 [==============================] - 0s 7ms/step - loss: 4.3978 - mae: 4.3978\n",
      "Epoch 9/100\n",
      "1/1 [==============================] - 0s 7ms/step - loss: 4.3236 - mae: 4.3236\n",
      "Epoch 10/100\n",
      "1/1 [==============================] - 0s 9ms/step - loss: 4.2496 - mae: 4.2496\n",
      "Epoch 11/100\n",
      "1/1 [==============================] - 0s 7ms/step - loss: 4.1758 - mae: 4.1758\n",
      "Epoch 12/100\n",
      "1/1 [==============================] - 0s 8ms/step - loss: 4.1020 - mae: 4.1020\n",
      "Epoch 13/100\n",
      "1/1 [==============================] - 0s 9ms/step - loss: 4.0282 - mae: 4.0282\n",
      "Epoch 14/100\n",
      "1/1 [==============================] - 0s 7ms/step - loss: 3.9545 - mae: 3.9545\n",
      "Epoch 15/100\n",
      "1/1 [==============================] - 0s 7ms/step - loss: 3.8807 - mae: 3.8807\n",
      "Epoch 16/100\n",
      "1/1 [==============================] - 0s 9ms/step - loss: 3.8067 - mae: 3.8067\n",
      "Epoch 17/100\n",
      "1/1 [==============================] - 0s 8ms/step - loss: 3.7326 - mae: 3.7326\n",
      "Epoch 18/100\n",
      "1/1 [==============================] - 0s 7ms/step - loss: 3.6583 - mae: 3.6583\n",
      "Epoch 19/100\n",
      "1/1 [==============================] - 0s 8ms/step - loss: 3.5837 - mae: 3.5837\n",
      "Epoch 20/100\n",
      "1/1 [==============================] - 0s 5ms/step - loss: 3.5089 - mae: 3.5089\n",
      "Epoch 21/100\n",
      "1/1 [==============================] - 0s 7ms/step - loss: 3.4338 - mae: 3.4338\n",
      "Epoch 22/100\n",
      "1/1 [==============================] - 0s 9ms/step - loss: 3.3583 - mae: 3.3583\n",
      "Epoch 23/100\n",
      "1/1 [==============================] - 0s 7ms/step - loss: 3.2826 - mae: 3.2826\n",
      "Epoch 24/100\n",
      "1/1 [==============================] - 0s 8ms/step - loss: 3.2065 - mae: 3.2065\n",
      "Epoch 25/100\n",
      "1/1 [==============================] - 0s 7ms/step - loss: 3.1300 - mae: 3.1300\n",
      "Epoch 26/100\n",
      "1/1 [==============================] - 0s 7ms/step - loss: 3.0532 - mae: 3.0532\n",
      "Epoch 27/100\n",
      "1/1 [==============================] - 0s 9ms/step - loss: 2.9761 - mae: 2.9761\n",
      "Epoch 28/100\n",
      "1/1 [==============================] - 0s 6ms/step - loss: 2.8985 - mae: 2.8985\n",
      "Epoch 29/100\n",
      "1/1 [==============================] - 0s 6ms/step - loss: 2.8206 - mae: 2.8206\n",
      "Epoch 30/100\n",
      "1/1 [==============================] - 0s 7ms/step - loss: 2.7423 - mae: 2.7423\n",
      "Epoch 31/100\n",
      "1/1 [==============================] - 0s 8ms/step - loss: 2.6636 - mae: 2.6636\n",
      "Epoch 32/100\n",
      "1/1 [==============================] - 0s 7ms/step - loss: 2.5844 - mae: 2.5844\n",
      "Epoch 33/100\n",
      "1/1 [==============================] - 0s 8ms/step - loss: 2.5049 - mae: 2.5049\n",
      "Epoch 34/100\n",
      "1/1 [==============================] - 0s 8ms/step - loss: 2.4249 - mae: 2.4249\n",
      "Epoch 35/100\n",
      "1/1 [==============================] - 0s 9ms/step - loss: 2.3445 - mae: 2.3445\n",
      "Epoch 36/100\n",
      "1/1 [==============================] - 0s 8ms/step - loss: 2.2637 - mae: 2.2637\n",
      "Epoch 37/100\n",
      "1/1 [==============================] - 0s 8ms/step - loss: 2.1918 - mae: 2.1918\n",
      "Epoch 38/100\n",
      "1/1 [==============================] - 0s 7ms/step - loss: 2.1219 - mae: 2.1219\n",
      "Epoch 39/100\n",
      "1/1 [==============================] - 0s 10ms/step - loss: 2.0572 - mae: 2.0572\n",
      "Epoch 40/100\n",
      "1/1 [==============================] - 0s 8ms/step - loss: 1.9965 - mae: 1.9965\n",
      "Epoch 41/100\n",
      "1/1 [==============================] - 0s 6ms/step - loss: 1.9371 - mae: 1.9371\n",
      "Epoch 42/100\n",
      "1/1 [==============================] - 0s 8ms/step - loss: 1.8829 - mae: 1.8829\n",
      "Epoch 43/100\n",
      "1/1 [==============================] - 0s 8ms/step - loss: 1.8294 - mae: 1.8294\n",
      "Epoch 44/100\n",
      "1/1 [==============================] - 0s 6ms/step - loss: 1.7818 - mae: 1.7818\n",
      "Epoch 45/100\n",
      "1/1 [==============================] - 0s 8ms/step - loss: 1.7361 - mae: 1.7361\n",
      "Epoch 46/100\n",
      "1/1 [==============================] - 0s 8ms/step - loss: 1.6910 - mae: 1.6910\n",
      "Epoch 47/100\n",
      "1/1 [==============================] - 0s 8ms/step - loss: 1.6465 - mae: 1.6465\n",
      "Epoch 48/100\n",
      "1/1 [==============================] - 0s 8ms/step - loss: 1.6024 - mae: 1.6024\n",
      "Epoch 49/100\n",
      "1/1 [==============================] - 0s 8ms/step - loss: 1.5588 - mae: 1.5588\n",
      "Epoch 50/100\n",
      "1/1 [==============================] - 0s 7ms/step - loss: 1.5201 - mae: 1.5201\n",
      "Epoch 51/100\n",
      "1/1 [==============================] - 0s 7ms/step - loss: 1.4827 - mae: 1.4827\n",
      "Epoch 52/100\n",
      "1/1 [==============================] - 0s 8ms/step - loss: 1.4467 - mae: 1.4467\n",
      "Epoch 53/100\n",
      "1/1 [==============================] - 0s 7ms/step - loss: 1.4198 - mae: 1.4198\n",
      "Epoch 54/100\n",
      "1/1 [==============================] - 0s 7ms/step - loss: 1.3972 - mae: 1.3972\n",
      "Epoch 55/100\n",
      "1/1 [==============================] - 0s 7ms/step - loss: 1.3753 - mae: 1.3753\n",
      "Epoch 56/100\n",
      "1/1 [==============================] - 0s 7ms/step - loss: 1.3533 - mae: 1.3533\n",
      "Epoch 57/100\n",
      "1/1 [==============================] - 0s 7ms/step - loss: 1.3312 - mae: 1.3312\n",
      "Epoch 58/100\n",
      "1/1 [==============================] - 0s 7ms/step - loss: 1.3107 - mae: 1.3107\n",
      "Epoch 59/100\n",
      "1/1 [==============================] - 0s 8ms/step - loss: 1.2940 - mae: 1.2940\n",
      "Epoch 60/100\n",
      "1/1 [==============================] - 0s 9ms/step - loss: 1.2782 - mae: 1.2782\n",
      "Epoch 61/100\n",
      "1/1 [==============================] - 0s 6ms/step - loss: 1.2626 - mae: 1.2626\n",
      "Epoch 62/100\n",
      "1/1 [==============================] - 0s 9ms/step - loss: 1.2472 - mae: 1.2472\n",
      "Epoch 63/100\n",
      "1/1 [==============================] - 0s 8ms/step - loss: 1.2321 - mae: 1.2321\n",
      "Epoch 64/100\n",
      "1/1 [==============================] - 0s 7ms/step - loss: 1.2170 - mae: 1.2170\n",
      "Epoch 65/100\n",
      "1/1 [==============================] - 0s 8ms/step - loss: 1.2021 - mae: 1.2021\n",
      "Epoch 66/100\n",
      "1/1 [==============================] - 0s 7ms/step - loss: 1.1874 - mae: 1.1874\n",
      "Epoch 67/100\n",
      "1/1 [==============================] - 0s 8ms/step - loss: 1.1731 - mae: 1.1731\n",
      "Epoch 68/100\n",
      "1/1 [==============================] - 0s 9ms/step - loss: 1.1653 - mae: 1.1653\n",
      "Epoch 69/100\n",
      "1/1 [==============================] - 0s 7ms/step - loss: 1.1579 - mae: 1.1579\n",
      "Epoch 70/100\n",
      "1/1 [==============================] - 0s 7ms/step - loss: 1.1507 - mae: 1.1507\n",
      "Epoch 71/100\n",
      "1/1 [==============================] - 0s 6ms/step - loss: 1.1436 - mae: 1.1436\n",
      "Epoch 72/100\n",
      "1/1 [==============================] - 0s 6ms/step - loss: 1.1369 - mae: 1.1369\n",
      "Epoch 73/100\n",
      "1/1 [==============================] - 0s 8ms/step - loss: 1.1304 - mae: 1.1304\n",
      "Epoch 74/100\n",
      "1/1 [==============================] - 0s 7ms/step - loss: 1.1240 - mae: 1.1240\n",
      "Epoch 75/100\n",
      "1/1 [==============================] - 0s 6ms/step - loss: 1.1178 - mae: 1.1178\n",
      "Epoch 76/100\n",
      "1/1 [==============================] - 0s 7ms/step - loss: 1.1121 - mae: 1.1121\n",
      "Epoch 77/100\n",
      "1/1 [==============================] - 0s 6ms/step - loss: 1.1080 - mae: 1.1080\n",
      "Epoch 78/100\n",
      "1/1 [==============================] - 0s 9ms/step - loss: 1.1050 - mae: 1.1050\n",
      "Epoch 79/100\n",
      "1/1 [==============================] - 0s 9ms/step - loss: 1.1041 - mae: 1.1041\n",
      "Epoch 80/100\n",
      "1/1 [==============================] - 0s 8ms/step - loss: 1.1033 - mae: 1.1033\n",
      "Epoch 81/100\n",
      "1/1 [==============================] - 0s 8ms/step - loss: 1.1025 - mae: 1.1025\n",
      "Epoch 82/100\n",
      "1/1 [==============================] - 0s 8ms/step - loss: 1.1017 - mae: 1.1017\n",
      "Epoch 83/100\n",
      "1/1 [==============================] - 0s 8ms/step - loss: 1.1011 - mae: 1.1011\n",
      "Epoch 84/100\n",
      "1/1 [==============================] - 0s 8ms/step - loss: 1.1005 - mae: 1.1005\n",
      "Epoch 85/100\n",
      "1/1 [==============================] - 0s 8ms/step - loss: 1.1006 - mae: 1.1006\n",
      "Epoch 86/100\n",
      "1/1 [==============================] - 0s 8ms/step - loss: 1.1018 - mae: 1.1018\n",
      "Epoch 87/100\n",
      "1/1 [==============================] - 0s 8ms/step - loss: 1.1028 - mae: 1.1028\n",
      "Epoch 88/100\n",
      "1/1 [==============================] - 0s 8ms/step - loss: 1.1036 - mae: 1.1036\n",
      "Epoch 89/100\n"
     ]
    },
    {
     "name": "stdout",
     "output_type": "stream",
     "text": [
      "1/1 [==============================] - 0s 9ms/step - loss: 1.1043 - mae: 1.1043\n",
      "Epoch 90/100\n",
      "1/1 [==============================] - 0s 10ms/step - loss: 1.1048 - mae: 1.1048\n",
      "Epoch 91/100\n",
      "1/1 [==============================] - 0s 10ms/step - loss: 1.1051 - mae: 1.1051\n",
      "Epoch 92/100\n",
      "1/1 [==============================] - 0s 8ms/step - loss: 1.1052 - mae: 1.1052\n",
      "Epoch 93/100\n",
      "1/1 [==============================] - 0s 9ms/step - loss: 1.1051 - mae: 1.1051\n",
      "Epoch 94/100\n",
      "1/1 [==============================] - 0s 8ms/step - loss: 1.1050 - mae: 1.1050\n",
      "Epoch 95/100\n",
      "1/1 [==============================] - 0s 8ms/step - loss: 1.1048 - mae: 1.1048\n",
      "Epoch 96/100\n",
      "1/1 [==============================] - 0s 8ms/step - loss: 1.1045 - mae: 1.1045\n",
      "Epoch 97/100\n",
      "1/1 [==============================] - 0s 9ms/step - loss: 1.1041 - mae: 1.1041\n",
      "Epoch 98/100\n",
      "1/1 [==============================] - 0s 10ms/step - loss: 1.1036 - mae: 1.1036\n",
      "Epoch 99/100\n",
      "1/1 [==============================] - 0s 7ms/step - loss: 1.1030 - mae: 1.1030\n",
      "Epoch 100/100\n",
      "1/1 [==============================] - 0s 9ms/step - loss: 1.1024 - mae: 1.1024\n"
     ]
    },
    {
     "data": {
      "text/plain": [
       "<keras.src.callbacks.History at 0x28449cc1a20>"
      ]
     },
     "execution_count": 25,
     "metadata": {},
     "output_type": "execute_result"
    }
   ],
   "source": [
    "model=tf.keras.Sequential([\n",
    "    tf.keras.layers.Dense(10,activation='relu'),\n",
    "    tf.keras.layers.Dense(10,activation='relu'),\n",
    "\n",
    "    tf.keras.layers.Dense(1)\n",
    "])\n",
    "\n",
    "model.compile(loss=tf.keras.losses.mae,\n",
    "              optimizer=tf.keras.optimizers.Adam(lr=.001),\n",
    "              metrics=['mae'])\n",
    "\n",
    "model.fit(X,y,epochs=100)"
   ]
  },
  {
   "cell_type": "code",
   "execution_count": 26,
   "id": "10e6dcab",
   "metadata": {},
   "outputs": [
    {
     "name": "stdout",
     "output_type": "stream",
     "text": [
      "1/1 [==============================] - 0s 69ms/step\n"
     ]
    },
    {
     "data": {
      "text/plain": [
       "array([[13.082191]], dtype=float32)"
      ]
     },
     "execution_count": 26,
     "metadata": {},
     "output_type": "execute_result"
    }
   ],
   "source": [
    "model.predict([35])"
   ]
  },
  {
   "cell_type": "code",
   "execution_count": 27,
   "id": "7ecf56a1",
   "metadata": {},
   "outputs": [
    {
     "name": "stdout",
     "output_type": "stream",
     "text": [
      "Model: \"sequential_16\"\n",
      "_________________________________________________________________\n",
      " Layer (type)                Output Shape              Param #   \n",
      "=================================================================\n",
      " dense_39 (Dense)            (None, 10)                20        \n",
      "                                                                 \n",
      " dense_40 (Dense)            (None, 10)                110       \n",
      "                                                                 \n",
      " dense_41 (Dense)            (None, 1)                 11        \n",
      "                                                                 \n",
      "=================================================================\n",
      "Total params: 141 (564.00 Byte)\n",
      "Trainable params: 141 (564.00 Byte)\n",
      "Non-trainable params: 0 (0.00 Byte)\n",
      "_________________________________________________________________\n"
     ]
    }
   ],
   "source": [
    "model.summary()"
   ]
  },
  {
   "cell_type": "code",
   "execution_count": 35,
   "id": "396f7fa1",
   "metadata": {},
   "outputs": [
    {
     "name": "stdout",
     "output_type": "stream",
     "text": [
      "You must install pydot (`pip install pydot`) and install graphviz (see instructions at https://graphviz.gitlab.io/download/) for plot_model to work.\n"
     ]
    }
   ],
   "source": [
    "from tensorflow.keras.utils import plot_model\n",
    "plot_model(model=model)"
   ]
  },
  {
   "cell_type": "code",
   "execution_count": 34,
   "id": "4f4dc646",
   "metadata": {},
   "outputs": [
    {
     "name": "stdout",
     "output_type": "stream",
     "text": [
      "Collecting graphviz\n",
      "  Downloading graphviz-0.20.1-py3-none-any.whl (47 kB)\n",
      "     ---------------------------------------- 0.0/47.0 kB ? eta -:--:--\n",
      "     ---------------------------------------- 47.0/47.0 kB 2.3 MB/s eta 0:00:00\n",
      "Installing collected packages: graphviz\n",
      "Successfully installed graphviz-0.20.1\n"
     ]
    }
   ],
   "source": [
    "# Evaluate model\n",
    "# !pip install pydot\n",
    "!pip install graphviz"
   ]
  },
  {
   "cell_type": "code",
   "execution_count": 38,
   "id": "61e4f976",
   "metadata": {},
   "outputs": [
    {
     "name": "stdout",
     "output_type": "stream",
     "text": [
      "You must install pydot (`pip install pydot`) and install graphviz (see instructions at https://graphviz.gitlab.io/download/) for plot_model to work.\n"
     ]
    },
    {
     "ename": "NameError",
     "evalue": "name 'plt' is not defined",
     "output_type": "error",
     "traceback": [
      "\u001b[1;31m---------------------------------------------------------------------------\u001b[0m",
      "\u001b[1;31mNameError\u001b[0m                                 Traceback (most recent call last)",
      "Cell \u001b[1;32mIn[38], line 2\u001b[0m\n\u001b[0;32m      1\u001b[0m plot_model(model\u001b[38;5;241m=\u001b[39mmodel)\n\u001b[1;32m----> 2\u001b[0m \u001b[43mplt\u001b[49m\u001b[38;5;241m.\u001b[39mshow()\n",
      "\u001b[1;31mNameError\u001b[0m: name 'plt' is not defined"
     ]
    }
   ],
   "source": [
    "plot_model(model=model)\n"
   ]
  },
  {
   "cell_type": "code",
   "execution_count": null,
   "id": "6251df47",
   "metadata": {},
   "outputs": [],
   "source": []
  }
 ],
 "metadata": {
  "kernelspec": {
   "display_name": "Python 3 (ipykernel)",
   "language": "python",
   "name": "python3"
  },
  "language_info": {
   "codemirror_mode": {
    "name": "ipython",
    "version": 3
   },
   "file_extension": ".py",
   "mimetype": "text/x-python",
   "name": "python",
   "nbconvert_exporter": "python",
   "pygments_lexer": "ipython3",
   "version": "3.10.9"
  }
 },
 "nbformat": 4,
 "nbformat_minor": 5
}
